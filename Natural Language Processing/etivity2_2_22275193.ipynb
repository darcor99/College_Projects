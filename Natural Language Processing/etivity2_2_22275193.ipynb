{
  "nbformat": 4,
  "nbformat_minor": 0,
  "metadata": {
    "colab": {
      "provenance": []
    },
    "kernelspec": {
      "name": "python3",
      "display_name": "Python 3"
    },
    "language_info": {
      "name": "python"
    }
  },
  "cells": [
    {
      "cell_type": "markdown",
      "source": [
        "Name: Dara Corr\n",
        "ID: 22275193"
      ],
      "metadata": {
        "id": "LbNqTC2XdxZt"
      }
    },
    {
      "cell_type": "code",
      "execution_count": null,
      "metadata": {
        "colab": {
          "base_uri": "https://localhost:8080/"
        },
        "id": "PnhOLyiCacRL",
        "outputId": "1f0635d2-f9c3-4a8b-89fc-e24d582ace9e"
      },
      "outputs": [
        {
          "output_type": "stream",
          "name": "stdout",
          "text": [
            "Looking in indexes: https://pypi.org/simple, https://us-python.pkg.dev/colab-wheels/public/simple/\n",
            "Requirement already satisfied: names-dataset in /usr/local/lib/python3.7/dist-packages (3.1.0)\n",
            "Requirement already satisfied: pycountry in /usr/local/lib/python3.7/dist-packages (from names-dataset) (22.3.5)\n",
            "Requirement already satisfied: setuptools in /usr/local/lib/python3.7/dist-packages (from pycountry->names-dataset) (57.4.0)\n",
            "^C\n",
            "Looking in indexes: https://pypi.org/simple, https://us-python.pkg.dev/colab-wheels/public/simple/\n",
            "Requirement already satisfied: jellyfish in /usr/local/lib/python3.7/dist-packages (0.9.0)\n"
          ]
        }
      ],
      "source": [
        "!pip install names-dataset\n",
        "!pip install jellyfish"
      ]
    },
    {
      "cell_type": "code",
      "source": [
        "from names_dataset import NameDataset, NameWrapper"
      ],
      "metadata": {
        "id": "g5dy-Al2bXfK"
      },
      "execution_count": null,
      "outputs": []
    },
    {
      "cell_type": "code",
      "source": [
        "import jellyfish"
      ],
      "metadata": {
        "id": "YXnIFo7VfuZv"
      },
      "execution_count": null,
      "outputs": []
    },
    {
      "cell_type": "code",
      "source": [
        "#task 3 A:\n",
        "\n",
        "def namecheck(firstname,lastname): #function that checks if a given first name and last name are in the dataset\n",
        "\n",
        "  firstnamecheck = nd.search(firstname) #check for first name in dataset\n",
        "  lastnamecheck = nd.search(lastname) #check for last name in the dataset\n",
        "\n",
        "  if(firstnamecheck['first_name'] != None): \n",
        "    print(firstnamecheck)\n",
        "  else:\n",
        "    print(\"First name not found in dataset\") #tells user if first name was not found in the dataset\n",
        "\n",
        "  print(\"\")\n",
        "    \n",
        "  if(lastnamecheck['last_name'] != None): \n",
        "    print(lastnamecheck)\n",
        "  else:\n",
        "    print(\"First name not found in dataset\") #tells user if first name was not found in the dataset\n",
        " \n",
        "  #print out the sondex codes of the names using jellyfish library\n",
        "  firstnamesoundex = jellyfish.soundex(firstname)\n",
        "  print(\"Soundex of First name \",firstnamesoundex)#prints Soundex code of the first name \n",
        "\n",
        "  lastnamesoundex = jellyfish.soundex(lastname)\n",
        "  print(\"Soundex of last name \",lastnamesoundex)#prints out the soundex code of the last name\n",
        "\n",
        "  print(\"There are \",len(nd.first_names), \" first names in the names dataset\")\n",
        "  print(\"There are \",len(nd.last_names), \"last names in the names dataset\")\n",
        "  \n",
        "namecheck(\"Dara\",\"Corr\")\n"
      ],
      "metadata": {
        "colab": {
          "base_uri": "https://localhost:8080/"
        },
        "id": "dRmnWv6Qe6u2",
        "outputId": "443da107-08a9-46d4-c223-1ad3c9b8b98f"
      },
      "execution_count": null,
      "outputs": [
        {
          "output_type": "stream",
          "name": "stdout",
          "text": [
            "{'first_name': {'country': {'Brazil': 0.112, 'France': 0.047, 'United Kingdom': 0.07, 'Ireland': 0.119, 'Iraq': 0.246, 'Italy': 0.036, 'Malaysia': 0.045, 'Nigeria': 0.036, 'Saudi Arabia': 0.051, 'United States': 0.238}, 'gender': {'Female': 0.559, 'Male': 0.441}, 'rank': {'Brazil': 1252, 'France': 3941, 'United Kingdom': 1731, 'Ireland': 247, 'Iraq': 1136, 'Italy': 4903, 'Malaysia': 3976, 'Nigeria': 3408, 'Saudi Arabia': 7786, 'United States': 2220}}, 'last_name': {'country': {'United Arab Emirates': 0.039, 'France': 0.041, 'India': 0.05, 'Iraq': 0.39, 'Italy': 0.113, 'Malaysia': 0.066, 'Nigeria': 0.116, 'Saudi Arabia': 0.064, 'Turkey': 0.061, 'United States': 0.06}, 'gender': {}, 'rank': {'United Arab Emirates': 3833, 'France': 16815, 'India': 2785, 'Iraq': 1422, 'Italy': 15025, 'Malaysia': 4918, 'Nigeria': 2498, 'Saudi Arabia': 11221, 'Turkey': 8394, 'United States': 13169}}}\n",
            "\n",
            "{'first_name': None, 'last_name': {'country': {'Canada': 0.015, 'Colombia': 0.021, 'Germany': 0.008, 'Spain': 0.015, 'France': 0.016, 'United Kingdom': 0.447, 'Ireland': 0.237, 'Italy': 0.022, 'Mexico': 0.016, 'United States': 0.204}, 'gender': {}, 'rank': {'United Kingdom': 2619, 'Ireland': 706, 'United States': 11257, 'Canada': None, 'Colombia': None, 'Germany': None, 'Spain': None, 'France': None, 'Italy': None, 'Mexico': None}}}\n",
            "Soundex of First name  D600\n",
            "Soundex of last name  C600\n",
            "There are  727556  first names in the names dataset\n",
            "There are  983826 last names in the names dataset\n"
          ]
        }
      ]
    },
    {
      "cell_type": "code",
      "source": [
        "#B\n",
        "#write a function that takes your first name as input and prints out a list of firstnames in the dataset whose Soundex codes are the same as your\n",
        "#First Name's Soundex Code and print out the total amount of matches found\n",
        "\n",
        "import re\n",
        "\n",
        "\n",
        "def SoundexNameCheck(firstname):\n",
        "  originalnamesoundex = jellyfish.soundex(firstname) #gets soundex code of the given firstname \n",
        "  namesdict = nd.first_names\n",
        "  nameslist = list(namesdict)\n",
        "\n",
        "  \n",
        "  matchnames = []\n",
        "  for i in range(len(nameslist)):\n",
        "    currentname = nameslist[i]\n",
        "    isASCII = re.match(\"[ -~]\", currentname) #check that all characters are ascii characters as soundex only works on ascii characters\n",
        "    #print(currentname)\n",
        "    if(isASCII): #checks name consists only of ascii characters\n",
        "      currentsoundex = jellyfish.soundex(currentname)\n",
        "      if  (originalnamesoundex == currentsoundex):#checks soundex of input == soundex of word from data\n",
        "        matchnames.append(currentname)#adds name to list\n",
        "\n",
        "  match = len(matchnames)\n",
        "\n",
        "  print(\"Number of names with same Soundex code: \", match)\n",
        "  print(matchnames)\n",
        "\n",
        "SoundexNameCheck(\"Dara\")\n",
        "        \n"
      ],
      "metadata": {
        "colab": {
          "base_uri": "https://localhost:8080/"
        },
        "id": "5XnGdD6KjwQ-",
        "outputId": "2ac1fa2a-0fb8-4939-ea46-13fcbdefad87"
      },
      "execution_count": null,
      "outputs": [
        {
          "output_type": "stream",
          "name": "stdout",
          "text": [
            "Number of names with same Soundex code:  383\n",
            "['D R', 'Da Eira', 'Da Ra', 'Daahir', 'Daar', 'Daari', 'Daer', 'Daero', 'Dahara', 'Dahari', 'Daheer', 'Daheeru', 'Daher', 'Dahiara', 'Dahir', 'Dahira', 'Dahirou', 'Dahiru', 'Dahr', 'Dahri', 'Dahuru', 'Dahèr', 'Dahîrÿ', 'Daiara', 'Daiira', 'Dair', 'Daira', 'Daire', 'Dairi', 'Dairo', 'Dairou', 'Dairu', 'Dairy', 'Daour', 'Dar', 'Dara', 'Darah', 'Darai', 'Dare', 'Darea', 'Dareay', 'Daree', 'Dareia', 'Darey', 'Dari', 'Daria', 'Dariaa', 'Dariah', 'Darie', 'Dariha', 'Darii', 'Dariia', 'Dariio', 'Dariioo', 'Dario', 'Dario A', 'Darioo', 'Dariu', 'Dariy', 'Dariya', 'Daro', 'Daroo', 'Darou', 'Darr', 'Darra', 'Darrah', 'Darri', 'Darro', 'Darry', 'Daru', 'Darua', 'Daruu', 'Darwi', 'Darwo', 'Dary', 'Darya', 'Daryae', 'Daryai', 'Daryay', 'Daryaye', 'Darye', 'Daryi', 'Daryo', 'Daryou', 'Daría', 'Darío', 'Dauir', 'Daur', 'Daura', 'Dauri', 'Dauria', 'Dauriya', 'Dauro', 'Daury', 'Dawar', 'Dawari', 'Dawer', 'Dawor', 'Dayara', 'Dayer', 'Dayeri', 'Dayira', 'Dayiro', 'Dayor', 'Dayra', 'Dayri', 'Dayro', 'Dayrou', 'Daíre', 'Daïrou', 'Ddree', 'De Roo', 'Dear', 'Deare', 'Dearra', 'Deary', 'Deer', 'Deerah', 'Deere', 'Deeyrah', 'Dehar', 'Dehir', 'Deir', 'Deira', 'Deiro', 'Deiroy', 'Deiry', 'Deor', 'Deora', 'Deoro', 'Der', 'Dera', 'Derah', 'Deray', 'Dere', 'Deri', 'Deria', 'Deriaa', 'Derih', 'Derio', 'Deriou', 'Deriya', 'Dero', 'Deroo', 'Deroy', 'Derr', 'Derra', 'Derri', 'Derrie', 'Derry', 'Dery', 'Derya', 'Derya U', 'Deryaa', 'Deura', 'Deurio', 'Deury', 'Dewar', 'Deyar', 'Deyare', 'Deyra', 'Deyri', 'Dhaher', 'Dhahri', 'Dhairya', 'Dhar', 'Dhara', 'Dhari', 'Dharu', 'Dhary', 'Dhauro', 'Dhayerr', 'Dhe Heri', 'Dheer', 'Dheeru', 'Dheri', 'Dhery', 'Dhiaur', 'Dhir', 'Dhira', 'Dhirah', 'Dhiraya', 'Dhire', 'Dhiru', 'Dhoore', 'Dhora', 'Dhori', 'Dhorie', 'Dhr', 'Dhrai', 'Dhurai', 'Dhuri', 'Dhyra', 'Dhyraa', 'Diar', 'Diara', 'Diaraye', 'Diare', 'Diari', 'Diariou', 'Diarra', 'Diarry', 'Diawara', 'Dieera', 'Diera', 'Dierra', 'Diiriye', 'Dior', 'Diora', 'Diori', 'Diory', 'Diouri', 'Dir', 'Dira', 'Dirah', 'Dirahh', 'Dire', 'Diree', 'Direh', 'Diri', 'Dirieh', 'Diriye', 'Diro', 'Diroy', 'Dirree', 'Dirrie', 'Dirry', 'Diry', 'Diyar', 'Diyara', 'Diyare', 'Diyari', 'Diyer', 'Diyor', 'Diyora', 'Do Ri', 'Doar', 'Doira', 'Doire', 'Door', 'Doori', 'Dor', 'Dora', 'Doraa', 'Dorah', 'Dorai', 'Doray', 'Dore', 'Dorea', 'Dorey', 'Dori', 'Doria', 'Dorie', 'Dorii', 'Doro', 'Doroea', 'Dorra', 'Dorri', 'Dorrie', 'Dorry', 'Dorrà', 'Doru', 'Dorwu', 'Dory', 'Dorá', 'Doré', 'Dorée', 'Doró', 'Dorė', 'Douar', 'Douiri', 'Doura', 'Dourah', 'Douro', 'Dourra', 'Dourwe', 'Dower', 'Doyour', 'Dr', 'Dra', 'Draa', 'Drae', 'Drah', 'Draha', 'Drahea', 'Drahu', 'Drai', 'Draoui', 'Draw', 'Drawi', 'Drawoh', 'Dray', 'Drayi', 'Dre', 'Drea', 'Dree', 'Drehi', 'Drei', 'Dreia', 'Drew', 'Drey', 'Dreyau', 'Dri', 'Dria', 'Drie', 'Drih', 'Drii', 'Driih', 'Dro', 'Drou', 'Drr', 'Dru', 'Drue', 'Druhá', 'Dry', 'Drya', 'Dré', 'Drë', 'Dur', 'Dura', 'Durai', 'Durao', 'Duray', 'Dure', 'Duri', 'Duria', 'Durie', 'Durio', 'Duriya', 'Duriye', 'Duro', 'Durowaa', 'Durra', 'Durrah', 'Durre', 'Duru', 'Duryew', 'Durão', 'Dwar', 'Dwi Ari', 'Dwra', 'Dwyer', 'Dwór', 'Dyar', 'Dyare', 'Dyari', 'Dyary', 'Dyer', 'Dyr', 'Dyra', 'Dyrah', 'Dyre', 'Dàhir', 'Dàrio', 'Dààhìr', 'Dáire', 'Dária', 'Dáriio', 'Dário', 'Dârii-Ó', 'Därïö', 'Dér', 'Déra', 'Déri', 'Dério', 'Dërio', 'Dï Ør', 'Dòra', 'Dóra', 'Dóri', 'Dória', 'Dórii', 'Dório', 'Dôr', 'Dôra', 'Dõr', 'Dörr', 'Dør', 'Düriye', 'Dürre', 'Dürüye', 'Dőri', 'Dərya']\n"
          ]
        }
      ]
    },
    {
      "cell_type": "code",
      "source": [
        "#C\n",
        "\n",
        "def leastEditDistance(firstname):\n",
        "  originalSoundex =  jellyfish.soundex(firstname)\n",
        "  namesdict = nd.first_names\n",
        "  nameslist = list(namesdict)\n",
        "  editdict = {}\n",
        "   \n",
        "\n",
        "  for i in range(len(nameslist)):\n",
        "      currentname = nameslist[i]\n",
        "      isASCII = re.match(\"[ -~]\", currentname)\n",
        "      \n",
        "      if(isASCII):\n",
        "        editdict[currentname] = jellyfish.levenshtein_distance(firstname, currentname)\n",
        "  \n",
        "  sortdict = sorted(editdict.items(), key=lambda x:x[1])\n",
        "\n",
        "  print(sortdict[0:11])#prints out top 10 names in dataset with least Levenshtein edit distance from my name\n",
        "\n",
        "\n",
        "\n",
        "leastEditDistance(\"Dara\")\n"
      ],
      "metadata": {
        "id": "PCpcHponysdq",
        "colab": {
          "base_uri": "https://localhost:8080/"
        },
        "outputId": "ebae66f1-416f-4916-8249-6f677f00984e"
      },
      "execution_count": null,
      "outputs": [
        {
          "output_type": "stream",
          "name": "stdout",
          "text": [
            "[('Dara', 0), ('Bara', 1), ('Cara', 1), ('Daa', 1), ('Daba', 1), ('Daca', 1), ('Dada', 1), ('Daea', 1), ('Dafa', 1), ('Daga', 1), ('Daha', 1)]\n"
          ]
        }
      ]
    }
  ]
}