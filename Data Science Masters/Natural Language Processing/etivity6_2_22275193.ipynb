{
  "nbformat": 4,
  "nbformat_minor": 0,
  "metadata": {
    "colab": {
      "provenance": []
    },
    "kernelspec": {
      "name": "python3",
      "display_name": "Python 3"
    },
    "language_info": {
      "name": "python"
    }
  },
  "cells": [
    {
      "cell_type": "markdown",
      "source": [
        "##Etivity 6.2\n",
        "Dara Corr - 22275193"
      ],
      "metadata": {
        "id": "uIhKYakdCNpi"
      }
    },
    {
      "cell_type": "markdown",
      "source": [
        "Task 4:\n",
        "\n"
      ],
      "metadata": {
        "id": "C6AIpJ6BCoUB"
      }
    },
    {
      "cell_type": "code",
      "execution_count": null,
      "metadata": {
        "colab": {
          "base_uri": "https://localhost:8080/"
        },
        "id": "oDSnBXcwBW5K",
        "outputId": "d6b4bc85-2aa1-40a7-a34c-06ea1be68e1d"
      },
      "outputs": [
        {
          "output_type": "stream",
          "name": "stderr",
          "text": [
            "[nltk_data] Downloading package punkt to /root/nltk_data...\n",
            "[nltk_data]   Package punkt is already up-to-date!\n"
          ]
        }
      ],
      "source": [
        "#task4\n",
        "\n",
        "import textblob\n",
        "from textblob import TextBlob\n",
        "from textblob.classifiers import NaiveBayesClassifier\n",
        "import nltk\n",
        "nltk.download('punkt')\n",
        "\n",
        "#Write a function that takes sets of training and testing documents as input and uses the textblob.classifiers module to:\n",
        " #a) train a Naive Bayes classifier using the training set\n",
        " #b) test it using the test set and print out the accuracy of the model.\n",
        "\n",
        "def naiveBayesClassifier(trainingSet,testSet):\n",
        "  cl = NaiveBayesClassifier(trainingSet)\n",
        "\n",
        "  for i in range(len(testSet)):\n",
        "    doc_class = cl.classify(testSet[i][0])\n",
        "    print(\"document: \" + str(testSet[i]) + \"\\t \\t predicted class = \" + doc_class)\n",
        "    \n",
        "  print(\"Accuracy: \" + str(cl.accuracy(testSet)))\n",
        "\n",
        "\n",
        "\n"
      ]
    },
    {
      "cell_type": "code",
      "source": [
        "trainingSet = [('London is the Capital of GB','GB'),\n",
        "               ('Oxford is a city in GB','GB'),\n",
        "               ('Dublin is the capital of Ireland','IE'),\n",
        "               ('Limerick is a city in Ireland','IE')]\n",
        "testSet = [('University of Limerick','IE'),\n",
        "           ('University College Dublin','IE'),\n",
        "           ('Imperial College London','GB'),\n",
        "           ('University of Oxford','GB'),\n",
        "           ('Ireland & GB','GB')]\n",
        "           \n",
        "naiveBayesClassifier(trainingSet,testSet)"
      ],
      "metadata": {
        "colab": {
          "base_uri": "https://localhost:8080/"
        },
        "id": "k9mEboAnC6sR",
        "outputId": "aecfa294-5fe3-4a19-93fd-121c6a7656fc"
      },
      "execution_count": null,
      "outputs": [
        {
          "output_type": "stream",
          "name": "stdout",
          "text": [
            "document: ('University of Limerick', 'IE')\t \t predicted class = IE\n",
            "document: ('University College Dublin', 'IE')\t \t predicted class = IE\n",
            "document: ('Imperial College London', 'GB')\t \t predicted class = GB\n",
            "document: ('University of Oxford', 'GB')\t \t predicted class = GB\n",
            "document: ('Ireland & GB', 'GB')\t \t predicted class = GB\n",
            "Accuracy: 1.0\n"
          ]
        }
      ]
    },
    {
      "cell_type": "markdown",
      "source": [
        "Task 5:"
      ],
      "metadata": {
        "id": "689N96y1GVcp"
      }
    },
    {
      "cell_type": "code",
      "source": [
        "#task5\n",
        "\n",
        "import pandas as pd\n",
        "\n",
        "#download data\n",
        "!wget https://storage.googleapis.com/dataset-uploader/bbc/bbc-text.csv \n",
        "#####\n",
        "bbc_text = 'https://storage.googleapis.com/dataset-uploader/bbc/bbc-text.csv'\n",
        "\n",
        "bbc_df = pd.read_csv(bbc_text)\n",
        "\n",
        "bbc_df = bbc_df[['text', 'category']]\n",
        "print(bbc_df.head(10))"
      ],
      "metadata": {
        "colab": {
          "base_uri": "https://localhost:8080/"
        },
        "id": "ImfbXw6jGPpz",
        "outputId": "e65d4de9-e2ca-4f73-d282-c92375d4b050"
      },
      "execution_count": null,
      "outputs": [
        {
          "output_type": "stream",
          "name": "stdout",
          "text": [
            "--2022-11-27 00:44:44--  https://storage.googleapis.com/dataset-uploader/bbc/bbc-text.csv\n",
            "Resolving storage.googleapis.com (storage.googleapis.com)... 108.177.125.128, 74.125.204.128, 64.233.189.128, ...\n",
            "Connecting to storage.googleapis.com (storage.googleapis.com)|108.177.125.128|:443... connected.\n",
            "HTTP request sent, awaiting response... 200 OK\n",
            "Length: 5057493 (4.8M) [text/csv]\n",
            "Saving to: ‘bbc-text.csv.1’\n",
            "\n",
            "\rbbc-text.csv.1        0%[                    ]       0  --.-KB/s               \rbbc-text.csv.1      100%[===================>]   4.82M  --.-KB/s    in 0.04s   \n",
            "\n",
            "2022-11-27 00:44:45 (114 MB/s) - ‘bbc-text.csv.1’ saved [5057493/5057493]\n",
            "\n",
            "                                                text       category\n",
            "0  tv future in the hands of viewers with home th...           tech\n",
            "1  worldcom boss  left books alone  former worldc...       business\n",
            "2  tigers wary of farrell  gamble  leicester say ...          sport\n",
            "3  yeading face newcastle in fa cup premiership s...          sport\n",
            "4  ocean s twelve raids box office ocean s twelve...  entertainment\n",
            "5  howard hits back at mongrel jibe michael howar...       politics\n",
            "6  blair prepares to name poll date tony blair is...       politics\n",
            "7  henman hopes ended in dubai third seed tim hen...          sport\n",
            "8  wilkinson fit to face edinburgh england captai...          sport\n",
            "9  last star wars  not for children  the sixth an...  entertainment\n"
          ]
        }
      ]
    },
    {
      "cell_type": "code",
      "source": [
        "n = 10 #sample size\n",
        "print(bbc_df.sample(n=n)) #a) print a number of sample documents from the dataset\n",
        "\n",
        "print(\"\\n\")\n",
        "\n",
        "print(\"Total number of documents in the df : \" + str(len(bbc_df)))\n",
        "\n",
        "############# New code for finding documents per category (Credit: Govindu Dilshan Wijsekera Liyange)\n",
        "doccounts = bbc_df.category.value_counts()\n",
        "\n",
        "print('\\n')\n",
        "print(\"Documents per category:\")\n",
        "print(doccounts)"
      ],
      "metadata": {
        "colab": {
          "base_uri": "https://localhost:8080/"
        },
        "id": "IJ-P6jprKdVC",
        "outputId": "f2da1918-c58b-41c9-ed22-69f21007e49a"
      },
      "execution_count": null,
      "outputs": [
        {
          "output_type": "stream",
          "name": "stdout",
          "text": [
            "                                                   text  category\n",
            "159   orange colour clash set for court a row over t...  business\n",
            "882   web logs aid disaster recovery some of the mos...      tech\n",
            "2218  davies favours gloucester future wales hooker ...     sport\n",
            "353   pearce keen on succeeding keegan joint assista...     sport\n",
            "71    singapore growth at 8.1% in 2004 singapore s e...  business\n",
            "72    parties build up poll war chests the labour pa...  politics\n",
            "718   apple attacked over sources row civil libertie...      tech\n",
            "1126  stuart joins norwich from addicks norwich have...     sport\n",
            "25    moya fights back for indian title carlos moya ...     sport\n",
            "1527  pm apology over jailings tony blair has apolog...  politics\n",
            "\n",
            "\n",
            "Total number of documents in the df : 2225\n",
            "\n",
            "\n",
            "Documents per category:\n",
            "sport            511\n",
            "business         510\n",
            "politics         417\n",
            "tech             401\n",
            "entertainment    386\n",
            "Name: category, dtype: int64\n"
          ]
        }
      ]
    },
    {
      "cell_type": "code",
      "source": [
        "#5.3\n",
        "train = bbc_df.sample(frac=0.8,random_state=200)\n",
        "test = bbc_df.drop(train.index)\n",
        "\n",
        "print(train.head(10), \"\\n\")\n",
        "print(test.head(10))\n"
      ],
      "metadata": {
        "colab": {
          "base_uri": "https://localhost:8080/"
        },
        "id": "94BgmX7YRAvn",
        "outputId": "28cfc8dc-087e-4c11-855b-691c211bc64f"
      },
      "execution_count": null,
      "outputs": [
        {
          "output_type": "stream",
          "name": "stdout",
          "text": [
            "                                                   text       category\n",
            "2194  india-pakistan peace boosts trade calmer relat...       business\n",
            "431   blair backs  pre-election budget  tony blair h...       politics\n",
            "1844  more reforms ahead says milburn labour will co...       politics\n",
            "228   tv s future down the phone line internet tv ha...           tech\n",
            "1217  bortolami predicts dour contest italy skipper ...          sport\n",
            "1009  cardinal criticises iraq war cost billions of ...       politics\n",
            "2008  half of uk s mobiles  go online  multimedia mo...           tech\n",
            "1769  eu ministers to mull jet fuel tax european uni...       business\n",
            "1596  downloads enter us singles chart digital music...  entertainment\n",
            "99    rapper kanye west s shrewd soul us hip-hop sta...  entertainment \n",
            "\n",
            "                                                 text       category\n",
            "17  connors boost for british tennis former world ...          sport\n",
            "18  japanese banking battle at an end japan s sumi...       business\n",
            "37  row threatens hendrix museum plan proposals to...  entertainment\n",
            "51  strike threat over pension plans millions of p...       politics\n",
            "55  vouchers  to cut winter deaths  pensioners are...       politics\n",
            "67  top of the pops leaves bbc one the bbc s flags...  entertainment\n",
            "68  microsoft gets the blogging bug software giant...           tech\n",
            "73  funding cut hits wales students the wales stud...          sport\n",
            "89  bank set to leave rates on hold uk interest ra...       business\n",
            "90  slovakia reach hopman cup final slovakia will ...          sport\n"
          ]
        }
      ]
    },
    {
      "cell_type": "code",
      "source": [
        "#5.4\n",
        "Training = train.values.tolist()\n",
        "Testing = test.values.tolist()\n",
        "Classifier =  NaiveBayesClassifier(Training)\n",
        "\n",
        "for i in range(len(Testing)):\n",
        "    doc_class = Classifier.classify(Testing[i][0])\n",
        "    \n",
        "print(\"Accuracy: \" + str(Classifier.accuracy(Testing)))\n"
      ],
      "metadata": {
        "colab": {
          "base_uri": "https://localhost:8080/"
        },
        "id": "GOKAzVN7SZCS",
        "outputId": "c32ccffc-70d0-478f-bd2a-136b97346bc5"
      },
      "execution_count": null,
      "outputs": [
        {
          "output_type": "stream",
          "name": "stdout",
          "text": [
            "Accuracy: 0.9595505617977528\n"
          ]
        }
      ]
    }
  ]
}