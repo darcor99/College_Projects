{
  "cells": [
    {
      "cell_type": "markdown",
      "metadata": {
        "id": "t5DKIMHog73j"
      },
      "source": [
        "Dara Corr - 22275193 -\n",
        "Etivity 3.2"
      ]
    },
    {
      "cell_type": "code",
      "execution_count": null,
      "metadata": {
        "colab": {
          "base_uri": "https://localhost:8080/",
          "height": 397
        },
        "id": "fjvGD3lhgv6y",
        "outputId": "47ad7bb5-a4fa-40c7-bef7-65897a0279f4"
      },
      "outputs": [
        {
          "output_type": "stream",
          "name": "stdout",
          "text": [
            "--2022-10-17 12:21:57--  https://norvig.com/ngrams/count_2w.txt\n",
            "Resolving norvig.com (norvig.com)... 158.106.138.13\n",
            "Connecting to norvig.com (norvig.com)|158.106.138.13|:443... connected.\n",
            "HTTP request sent, awaiting response... 200 OK\n",
            "Length: 5566017 (5.3M) [text/plain]\n",
            "Saving to: ‘count_2w.txt’\n",
            "\n",
            "count_2w.txt        100%[===================>]   5.31M  35.1MB/s    in 0.2s    \n",
            "\n",
            "2022-10-17 12:21:57 (35.1 MB/s) - ‘count_2w.txt’ saved [5566017/5566017]\n",
            "\n"
          ]
        },
        {
          "output_type": "execute_result",
          "data": {
            "text/plain": [
              "              bigram   count\n",
              "0   0Uplink verified  523545\n",
              "1             0km to  116103\n",
              "2           1000s of  939476\n",
              "3            100s of  539389\n",
              "4  100th anniversary  158621"
            ],
            "text/html": [
              "\n",
              "  <div id=\"df-d0bdd475-8635-4e93-95ba-1b02f9511553\">\n",
              "    <div class=\"colab-df-container\">\n",
              "      <div>\n",
              "<style scoped>\n",
              "    .dataframe tbody tr th:only-of-type {\n",
              "        vertical-align: middle;\n",
              "    }\n",
              "\n",
              "    .dataframe tbody tr th {\n",
              "        vertical-align: top;\n",
              "    }\n",
              "\n",
              "    .dataframe thead th {\n",
              "        text-align: right;\n",
              "    }\n",
              "</style>\n",
              "<table border=\"1\" class=\"dataframe\">\n",
              "  <thead>\n",
              "    <tr style=\"text-align: right;\">\n",
              "      <th></th>\n",
              "      <th>bigram</th>\n",
              "      <th>count</th>\n",
              "    </tr>\n",
              "  </thead>\n",
              "  <tbody>\n",
              "    <tr>\n",
              "      <th>0</th>\n",
              "      <td>0Uplink verified</td>\n",
              "      <td>523545</td>\n",
              "    </tr>\n",
              "    <tr>\n",
              "      <th>1</th>\n",
              "      <td>0km to</td>\n",
              "      <td>116103</td>\n",
              "    </tr>\n",
              "    <tr>\n",
              "      <th>2</th>\n",
              "      <td>1000s of</td>\n",
              "      <td>939476</td>\n",
              "    </tr>\n",
              "    <tr>\n",
              "      <th>3</th>\n",
              "      <td>100s of</td>\n",
              "      <td>539389</td>\n",
              "    </tr>\n",
              "    <tr>\n",
              "      <th>4</th>\n",
              "      <td>100th anniversary</td>\n",
              "      <td>158621</td>\n",
              "    </tr>\n",
              "  </tbody>\n",
              "</table>\n",
              "</div>\n",
              "      <button class=\"colab-df-convert\" onclick=\"convertToInteractive('df-d0bdd475-8635-4e93-95ba-1b02f9511553')\"\n",
              "              title=\"Convert this dataframe to an interactive table.\"\n",
              "              style=\"display:none;\">\n",
              "        \n",
              "  <svg xmlns=\"http://www.w3.org/2000/svg\" height=\"24px\"viewBox=\"0 0 24 24\"\n",
              "       width=\"24px\">\n",
              "    <path d=\"M0 0h24v24H0V0z\" fill=\"none\"/>\n",
              "    <path d=\"M18.56 5.44l.94 2.06.94-2.06 2.06-.94-2.06-.94-.94-2.06-.94 2.06-2.06.94zm-11 1L8.5 8.5l.94-2.06 2.06-.94-2.06-.94L8.5 2.5l-.94 2.06-2.06.94zm10 10l.94 2.06.94-2.06 2.06-.94-2.06-.94-.94-2.06-.94 2.06-2.06.94z\"/><path d=\"M17.41 7.96l-1.37-1.37c-.4-.4-.92-.59-1.43-.59-.52 0-1.04.2-1.43.59L10.3 9.45l-7.72 7.72c-.78.78-.78 2.05 0 2.83L4 21.41c.39.39.9.59 1.41.59.51 0 1.02-.2 1.41-.59l7.78-7.78 2.81-2.81c.8-.78.8-2.07 0-2.86zM5.41 20L4 18.59l7.72-7.72 1.47 1.35L5.41 20z\"/>\n",
              "  </svg>\n",
              "      </button>\n",
              "      \n",
              "  <style>\n",
              "    .colab-df-container {\n",
              "      display:flex;\n",
              "      flex-wrap:wrap;\n",
              "      gap: 12px;\n",
              "    }\n",
              "\n",
              "    .colab-df-convert {\n",
              "      background-color: #E8F0FE;\n",
              "      border: none;\n",
              "      border-radius: 50%;\n",
              "      cursor: pointer;\n",
              "      display: none;\n",
              "      fill: #1967D2;\n",
              "      height: 32px;\n",
              "      padding: 0 0 0 0;\n",
              "      width: 32px;\n",
              "    }\n",
              "\n",
              "    .colab-df-convert:hover {\n",
              "      background-color: #E2EBFA;\n",
              "      box-shadow: 0px 1px 2px rgba(60, 64, 67, 0.3), 0px 1px 3px 1px rgba(60, 64, 67, 0.15);\n",
              "      fill: #174EA6;\n",
              "    }\n",
              "\n",
              "    [theme=dark] .colab-df-convert {\n",
              "      background-color: #3B4455;\n",
              "      fill: #D2E3FC;\n",
              "    }\n",
              "\n",
              "    [theme=dark] .colab-df-convert:hover {\n",
              "      background-color: #434B5C;\n",
              "      box-shadow: 0px 1px 3px 1px rgba(0, 0, 0, 0.15);\n",
              "      filter: drop-shadow(0px 1px 2px rgba(0, 0, 0, 0.3));\n",
              "      fill: #FFFFFF;\n",
              "    }\n",
              "  </style>\n",
              "\n",
              "      <script>\n",
              "        const buttonEl =\n",
              "          document.querySelector('#df-d0bdd475-8635-4e93-95ba-1b02f9511553 button.colab-df-convert');\n",
              "        buttonEl.style.display =\n",
              "          google.colab.kernel.accessAllowed ? 'block' : 'none';\n",
              "\n",
              "        async function convertToInteractive(key) {\n",
              "          const element = document.querySelector('#df-d0bdd475-8635-4e93-95ba-1b02f9511553');\n",
              "          const dataTable =\n",
              "            await google.colab.kernel.invokeFunction('convertToInteractive',\n",
              "                                                     [key], {});\n",
              "          if (!dataTable) return;\n",
              "\n",
              "          const docLinkHtml = 'Like what you see? Visit the ' +\n",
              "            '<a target=\"_blank\" href=https://colab.research.google.com/notebooks/data_table.ipynb>data table notebook</a>'\n",
              "            + ' to learn more about interactive tables.';\n",
              "          element.innerHTML = '';\n",
              "          dataTable['output_type'] = 'display_data';\n",
              "          await google.colab.output.renderOutput(dataTable, element);\n",
              "          const docLink = document.createElement('div');\n",
              "          docLink.innerHTML = docLinkHtml;\n",
              "          element.appendChild(docLink);\n",
              "        }\n",
              "      </script>\n",
              "    </div>\n",
              "  </div>\n",
              "  "
            ]
          },
          "metadata": {},
          "execution_count": 1
        }
      ],
      "source": [
        "import pandas as pd\n",
        "\n",
        "#download bigrams data\n",
        "!wget https://norvig.com/ngrams/count_2w.txt\n",
        "filepath2 = \"/content/count_2w.txt\"\n",
        "\n",
        "bigrams_df = pd.read_csv(filepath2, delimiter = '\\t', header=None)\n",
        "bigrams_df.columns = ['bigram', 'count']\n",
        "\n",
        "bigrams_df.head()"
      ]
    },
    {
      "cell_type": "code",
      "execution_count": null,
      "metadata": {
        "colab": {
          "base_uri": "https://localhost:8080/"
        },
        "id": "_occISpXhrkc",
        "outputId": "13629eee-f1df-4f90-c653-55df9de93eee"
      },
      "outputs": [
        {
          "output_type": "stream",
          "name": "stdout",
          "text": [
            "['<S>', 'year']\n",
            "['year', 'ending']\n",
            "['ending', 'today']\n",
            "['today', 'who']\n",
            "['who', 'live']\n",
            "['live', 'again']\n",
            "['again', 'now']\n",
            "['now', 'the']\n",
            "['the', 'piece']\n",
            "['piece', 'is']\n",
            "['is', 'vice']\n",
            "['vice', 'versa']\n",
            "nothing begins with versa\n"
          ]
        }
      ],
      "source": [
        "import random\n",
        "import numpy as np\n",
        "\n",
        "def ShannonVisualization(seed):\n",
        "\n",
        "  #finding matching bigrams that start with the word given by the parameter seed\n",
        "  matching_bigrams = bigrams_df.loc[bigrams_df['bigram'].str.startswith((seed) + \" \")]\n",
        "\n",
        "  #find probabilities that each bigram is in matching_bigrams\n",
        "  Total_frequency = np.sum(matching_bigrams['count'])\n",
        "  Probabilities =  (matching_bigrams['count'])/(Total_frequency)\n",
        "  matching_bigrams = matching_bigrams.assign(probability= Probabilities) #add probability column\n",
        "\n",
        "  matching_bigrams = matching_bigrams.sort_values(by = 'probability',ascending = False)\n",
        "\n",
        "  #new code below vvv\n",
        "  matching_bigrams = matching_bigrams.drop('count',axis = 1)\n",
        "\n",
        "  matching_bigrams_list = matching_bigrams.values.tolist()#gives list made of lists consisting of [Bigrams, probabilities] \n",
        "\n",
        "  ProbabilityList = []\n",
        "  BigramList = []\n",
        "  for i in range(len(matching_bigrams_list)):\n",
        "    ProbabilityList.append(matching_bigrams_list[i][1])\n",
        "    BigramList.append(matching_bigrams_list[i][0])\n",
        "\n",
        "  randomProb = random.uniform(0,1);\n",
        "\n",
        "  #create intervals\n",
        "  list_interval_points = [0];\n",
        "\n",
        "  index = 0\n",
        "  for index in range(1, len(ProbabilityList)-1):\n",
        "    list_interval_points.append(list_interval_points[index-1] + ProbabilityList[index])\n",
        "  \n",
        "  \n",
        "  index = 0\n",
        "  while ((list_interval_points[index]) < randomProb) and  (index < (len(list_interval_points) -1) ):\n",
        "    index +=1\n",
        "  \n",
        "  \n",
        "  return BigramList[index]\n",
        "\n",
        "\n",
        "\n",
        "bigram = ShannonVisualization(\"<S>\").split(\" \")\n",
        "print(bigram)\n",
        "\n",
        "sentencelist = []\n",
        "sentencelist.append(bigram[0])\n",
        "sentencelist.append(bigram[1])\n",
        "maxiterations = 0\n",
        "while bigram[1] != '</s>' and maxiterations < 1000:\n",
        "  try:\n",
        "    bigram = ShannonVisualization(bigram[1]).split(\" \")\n",
        "  except:\n",
        "    print(\"nothing begins with \" + bigram[1])\n",
        "    break\n",
        "  maxiterations +=1\n",
        "  print(bigram)\n",
        "  sentencelist.append(bigram[1])\n"
      ]
    },
    {
      "cell_type": "code",
      "execution_count": null,
      "metadata": {
        "colab": {
          "base_uri": "https://localhost:8080/"
        },
        "id": "flSNuCt3jk8-",
        "outputId": "f9523beb-1d69-437e-fa47-1804cb5c9879"
      },
      "outputs": [
        {
          "output_type": "stream",
          "name": "stdout",
          "text": [
            "<S> year ending today who live again now the piece is vice versa\n"
          ]
        }
      ],
      "source": [
        "print(' '.join(sentencelist))"
      ]
    },
    {
      "cell_type": "code",
      "execution_count": null,
      "metadata": {
        "id": "wCSxcH3k0zKW"
      },
      "outputs": [],
      "source": []
    }
  ],
  "metadata": {
    "colab": {
      "provenance": []
    },
    "kernelspec": {
      "display_name": "Python 3",
      "name": "python3"
    },
    "language_info": {
      "name": "python"
    }
  },
  "nbformat": 4,
  "nbformat_minor": 0
}