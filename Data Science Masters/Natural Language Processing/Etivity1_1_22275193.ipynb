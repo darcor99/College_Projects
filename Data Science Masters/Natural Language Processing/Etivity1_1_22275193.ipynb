{
  "nbformat": 4,
  "nbformat_minor": 0,
  "metadata": {
    "colab": {
      "provenance": []
    },
    "kernelspec": {
      "name": "python3",
      "display_name": "Python 3"
    },
    "language_info": {
      "name": "python"
    }
  },
  "cells": [
    {
      "cell_type": "markdown",
      "source": [
        "Name: Dara Corr ID: 22275193"
      ],
      "metadata": {
        "id": "-pRTOo-6c0GD"
      }
    },
    {
      "cell_type": "code",
      "execution_count": null,
      "metadata": {
        "colab": {
          "base_uri": "https://localhost:8080/"
        },
        "id": "pD5iYHjXcnuV",
        "outputId": "80d4049b-18ec-4f47-f4b5-c8d9917293b4"
      },
      "outputs": [
        {
          "output_type": "stream",
          "name": "stdout",
          "text": [
            "--2022-09-12 12:31:24--  https://gist.githubusercontent.com/ajoorabchi/eac194a79dd26de8864f9206b7842ff1/raw/8ea1d8d5f74b5b2724e378b43d4df6094990c7db/Eircode%2520Routing%2520Key%2520Boundaries.csv\n",
            "Resolving gist.githubusercontent.com (gist.githubusercontent.com)... 185.199.111.133, 185.199.109.133, 185.199.110.133, ...\n",
            "Connecting to gist.githubusercontent.com (gist.githubusercontent.com)|185.199.111.133|:443... connected.\n",
            "HTTP request sent, awaiting response... 200 OK\n",
            "Length: 1934 (1.9K) [text/plain]\n",
            "Saving to: ‘Eircode Routing Key Boundaries.csv.3’\n",
            "\n",
            "\r          Eircode R   0%[                    ]       0  --.-KB/s               \rEircode Routing Key 100%[===================>]   1.89K  --.-KB/s    in 0s      \n",
            "\n",
            "2022-09-12 12:31:24 (36.4 MB/s) - ‘Eircode Routing Key Boundaries.csv.3’ saved [1934/1934]\n",
            "\n",
            "[('ROUTING KEY', 'DESCRIPTOR'), ('A41', 'BALLYBOUGHAL'), ('A42', 'GARRISTOWN'), ('A45', 'OLDTOWN'), ('A63', 'GREYSTONES'), ('A67', 'WICKLOW'), ('A75', 'CASTLEBLAYNEY'), ('A81', 'CARRICKMACROSS'), ('A82', 'KELLS'), ('A83', 'ENFIELD'), ('A84', 'ASHBOURNE'), ('A85', 'DUNSHAUGHLIN'), ('A86', 'DUNBOYNE'), ('A91', 'DUNDALK'), ('A92', 'DROGHEDA'), ('A94', 'BLACKROCK'), ('A96', 'GLENAGEARY'), ('A98', 'BRAY'), ('C15', 'NAVAN'), ('D01', 'DUBLIN 1'), ('D02', 'DUBLIN 2'), ('D03', 'DUBLIN 3'), ('D04', 'DUBLIN 4'), ('D05', 'DUBLIN 5'), ('D06', 'DUBLIN 6'), ('D07', 'DUBLIN 7'), ('D08', 'DUBLIN 8'), ('D09', 'DUBLIN 9'), ('D10', 'DUBLIN 10'), ('D11', 'DUBLIN 11'), ('D12', 'DUBLIN 12'), ('D13', 'DUBLIN 13'), ('D14', 'DUBLIN 14'), ('D15', 'DUBLIN 15'), ('D16', 'DUBLIN 16'), ('D17', 'DUBLIN 17'), ('D18', 'DUBLIN 18'), ('D20', 'DUBLIN 20'), ('D22', 'DUBLIN 22'), ('D24', 'DUBLIN 24'), ('D6W', 'DUBLIN 6W'), ('E21', 'CAHIR'), ('E25', 'CASHEL'), ('E32', 'CARRICK-ON-SUIR'), ('E34', 'TIPPERARY'), ('E41', 'THURLES'), ('E45', 'NENAGH'), ('E53', 'ROSCREA'), ('E91', 'CLONMEL'), ('F12', 'CLAREMORRIS'), ('F23', 'CASTLEBAR'), ('F26', 'BALLINA'), ('F28', 'WESTPORT'), ('F31', 'BALLINROBE'), ('F35', 'BALLYHAUNIS'), ('F42', 'ROSCOMMON'), ('F45', 'CASTLEREA'), ('F52', 'BOYLE'), ('F56', 'BALLYMOTE'), ('F91', 'SLIGO'), ('F92', 'LETTERKENNY'), ('F93', 'LIFFORD'), ('F94', 'DONEGAL'), ('H12', 'CAVAN'), ('H14', 'BELTURBET'), ('H16', 'COOTEHILL'), ('H18', 'MONAGHAN'), ('H23', 'CLONES'), ('H53', 'BALLINASLOE'), ('H54', 'TUAM'), ('H62', 'LOUGHREA'), ('H65', 'ATHENRY'), ('H71', 'CLIFDEN'), ('H91', 'GALWAY'), ('K32', 'BALBRIGGAN'), ('K34', 'SKERRIES'), ('K36', 'MALAHIDE'), ('K45', 'LUSK'), ('K56', 'RUSH'), ('K67', 'SWORDS'), ('K78', 'LUCAN'), ('N37', 'ATHLONE'), ('N39', 'LONGFORD'), ('N41', 'CARRICK-ON-SHANNON'), ('N91', 'MULLINGAR'), ('P12', 'MACROOM'), ('P14', 'CORK - CROOKSTOWN'), ('P17', 'KINSALE'), ('P24', 'COBH'), ('P25', 'MIDLETON'), ('P31', 'BALLINCOLLIG'), ('P32', 'CORK - DONOUGHMORE'), ('P36', 'YOUGHAL'), ('P43', 'CARRIGALINE'), ('P47', 'CORK - DUNMANWAY'), ('P51', 'MALLOW'), ('P56', 'CHARLEVILLE'), ('P61', 'FERMOY'), ('P67', 'MITCHELSTOWN'), ('P72', 'BANDON'), ('P75', 'BANTRY'), ('P81', 'SKIBBEREEN'), ('P85', 'CLONAKILTY'), ('R14', 'ATHY'), ('R21', 'MUINE BHEAG'), ('R32', 'PORTLAOISE'), ('R35', 'TULLAMORE'), ('R42', 'BIRR'), ('R45', 'EDENDERRY'), ('R51', 'KILDARE'), ('R56', 'CURRAGH CAMP'), ('R93', 'CARLOW'), ('R95', 'KILKENNY'), ('T12', 'CORK - BALLINHASSIG'), ('T23', 'CORK - BLARNEY'), ('T34', 'CORK - WHITECHURCH'), ('T45', 'LITTLE ISLAND'), ('T56', 'CORK - WATERGRASSHILL'), ('V14', 'SHANNON'), ('V15', 'KILRUSH'), ('V23', 'CAHERCIVEEN'), ('V31', 'LISTOWEL'), ('V35', 'KILMALLOCK'), ('V42', 'NEWCASTLE WEST'), ('V92', 'TRALEE'), ('V93', 'KILLARNEY'), ('V94', 'LIMERICK'), ('V95', 'ENNIS'), ('W12', 'NEWBRIDGE'), ('W23', 'MAYNOOTH'), ('W34', 'MONASTEREVIN'), ('W91', 'NAAS'), ('X35', 'DUNGARVAN'), ('X42', 'KILMACTHOMAS'), ('X91', 'WATERFORD'), ('Y14', 'ARKLOW'), ('Y21', 'ENNISCORTHY'), ('Y25', 'GOREY'), ('Y34', 'NEW ROSS'), ('Y35', 'WEXFORD')]\n",
            "This is a valid Eircode\n",
            "Routing Key =  H91\n",
            "UniqueIdentifier =  VRR8\n",
            "This Eircode is for the Region of  GALWAY\n",
            "This is a valid Eircode\n",
            "Routing Key =  H91\n",
            "UniqueIdentifier =  VRR8\n",
            "This Eircode is for the Region of  GALWAY\n",
            "This is a valid Eircode\n",
            "Routing Key =  D6W\n",
            "UniqueIdentifier =  VRR8\n",
            "This Eircode is for the Region of  DUBLIN 6W\n",
            "This is a valid Eircode\n",
            "Routing Key =  H91\n",
            "UniqueIdentifier =  VRR8\n",
            "This Eircode is for the Region of  GALWAY\n",
            "Error: This is not a valid Eircode - Routing Key could not be identified\n",
            "Error: this is not a Valid Eircode \n",
            "Error: this is not a Valid Eircode \n",
            "Error: this is not a Valid Eircode \n"
          ]
        }
      ],
      "source": [
        "import re #import re library to use regex\n",
        "import csv #import csv library to handle the Eircode CSV file\n",
        "\n",
        "#use command !wget to download CSV file containing Eircode Routing Key Boundaries\n",
        "!wget https://gist.githubusercontent.com/ajoorabchi/eac194a79dd26de8864f9206b7842ff1/raw/8ea1d8d5f74b5b2724e378b43d4df6094990c7db/Eircode%2520Routing%2520Key%2520Boundaries.csv\n",
        "filePath = \"/content/Eircode Routing Key Boundaries.csv\"\n",
        "\n",
        "with open(filePath, 'r') as f:\n",
        "  reader = csv.reader(f)\n",
        "  KeyRouteList = list(map(tuple, reader))\n",
        "\n",
        "print(KeyRouteList)\n",
        "\n",
        "#convert the Key Route List into a dictionary \n",
        "KeyRouteList = dict(KeyRouteList)\n",
        "\n",
        "def eircodeValidator(eircode): #eircode validator function\n",
        "  x = eircode #save eircode as variable x\n",
        "    \n",
        "  x = x.strip() #removes white spaces from the start and end of the eircode (Suggestion from Michal Sekerka)\n",
        "  \n",
        "  #changed regex expression to recognise D6W routing key (Source: Darshan Dinni's code)\n",
        "  match = re.match(r'(^[A-Za-z]{1})([0-9]{1})([0-9wW]{1})([-| ]{1})([A-Z|a-z|0-9]{4}$)', x) #regex expression to check the first character is a letter, the 2nd and 3rd are numbers, 4th character is a space or hyphen and then the last 4 digits are numbers or letters\n",
        "  if match != None:\n",
        "\n",
        "    x = re.sub(r\"-\", \" \", x) #remove the hyphen from the middle of the eircode\n",
        "    myList = x.split(\" \") #splits the eircode given into the Routing Key and the unique identifier by slitting at the whitespace inbetween them\n",
        "    RoutingKey, UniqueIdentifier = myList[0].upper(), myList[1].upper() #make variables for the Routing Key and the Unique Identifier and make them uppercase\n",
        "\n",
        "  elif re.match(r'(^[A-Za-z]{1})([0-9]{1})([0-9Ww]{1})([A-Z|a-z|0-9]{4}$)', x): #checks for eircodes without spaces or hyphens in the middle\n",
        "    RoutingKey, UniqueIdentifier = x[0:3].upper(), x[3:7].upper()\n",
        "    \n",
        "  \n",
        "  else: \n",
        "    print(\"Error: this is not a Valid Eircode \")\n",
        "    return\n",
        "\n",
        "\n",
        "  #Check if the Routing Key is valid by checking against the list of Routing Key\n",
        "  if RoutingKey in KeyRouteList: #check if the routing key is in the list of routing keys\n",
        "    print(\"This is a valid Eircode\")\n",
        "    print(\"Routing Key = \", RoutingKey) #prints the 3 digit routing key part of the eircode\n",
        "    print(\"UniqueIdentifier = \", UniqueIdentifier) #prints 4 digit unique identifier part of the eircode\n",
        "    print(\"This Eircode is for the Region of \", KeyRouteList[RoutingKey]) #tells us what region the given Eircode is for\n",
        "\n",
        "  else:\n",
        "    print(\"Error: This is not a valid Eircode - Routing Key could not be identified\")\n",
        "\n",
        "\n",
        "\n",
        "\n",
        "\n",
        "eircodeValidator(\"H91 VRR8\")\n",
        "eircodeValidator(\"H91-VRR8\")\n",
        "eircodeValidator(\"d6wvrr8\")\n",
        "eircodeValidator(\"h91-Vrr8\")\n",
        "\n",
        "eircodeValidator(\"V11 Y01x\")\n",
        "eircodeValidator(\"V11KY01x\")\n",
        "eircodeValidator(\"V94KY01x\")\n",
        "eircodeValidator(\"V94  Y01x\")\n"
      ]
    }
  ]
}